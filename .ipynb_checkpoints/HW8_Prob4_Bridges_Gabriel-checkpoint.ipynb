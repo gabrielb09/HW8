{
 "cells": [
  {
   "cell_type": "code",
   "execution_count": 1,
   "metadata": {
    "collapsed": true,
    "deletable": true,
    "editable": true
   },
   "outputs": [],
   "source": [
    "# Intro. Exp. Physics II HW8, Gabriel Bridges\n",
    "# Problem 6.4\n",
    "# GLB300@nyu.edu"
   ]
  },
  {
   "cell_type": "code",
   "execution_count": 2,
   "metadata": {
    "collapsed": false,
    "deletable": true,
    "editable": true
   },
   "outputs": [
    {
     "name": "stdout",
     "output_type": "stream",
     "text": [
      "What is the principal investment?1000\n",
      "What is the interest rate?0.06\n",
      "How many years will it be invested?10\n"
     ]
    }
   ],
   "source": [
    "principal = float(raw_input(\"What is the principal investment? \"))\n",
    "interest = float(raw_input(\"What is the interest rate? \"))\n",
    "time = float(raw_input(\"How many years will it be invested? \"))"
   ]
  },
  {
   "cell_type": "code",
   "execution_count": 10,
   "metadata": {
    "collapsed": false,
    "deletable": true,
    "editable": true
   },
   "outputs": [
    {
     "name": "stdout",
     "output_type": "stream",
     "text": [
      "$1,790.85\n"
     ]
    }
   ],
   "source": [
    "#(a) the principal is compounded annually\n",
    "money = principal\n",
    "for i in range(1,int(time)+1):\n",
    "    money += money*interest\n",
    "print '${:,.2f}'.format(money)"
   ]
  },
  {
   "cell_type": "code",
   "execution_count": 11,
   "metadata": {
    "collapsed": false
   },
   "outputs": [
    {
     "name": "stdout",
     "output_type": "stream",
     "text": [
      "$1,819.40\n"
     ]
    }
   ],
   "source": [
    "#(a) the principal is compounded monthly\n",
    "timeM = time*12\n",
    "interestM = interest/12\n",
    "money = principal\n",
    "for i in range(1,int(timeM)+1):\n",
    "    money += money*interestM\n",
    "print '${:,.2f}'.format(money)"
   ]
  },
  {
   "cell_type": "code",
   "execution_count": 12,
   "metadata": {
    "collapsed": false
   },
   "outputs": [
    {
     "name": "stdout",
     "output_type": "stream",
     "text": [
      "$1,822.03\n"
     ]
    }
   ],
   "source": [
    "#(a) the principal is compounded daily\n",
    "timeD = time*365\n",
    "interestD = interest/365\n",
    "money = principal\n",
    "for i in range(1,int(timeD)+1):\n",
    "    money += money*interestD\n",
    "print '${:,.2f}'.format(money)"
   ]
  },
  {
   "cell_type": "code",
   "execution_count": null,
   "metadata": {
    "collapsed": true
   },
   "outputs": [],
   "source": []
  }
 ],
 "metadata": {
  "kernelspec": {
   "display_name": "Python 2",
   "language": "python",
   "name": "python2"
  },
  "language_info": {
   "codemirror_mode": {
    "name": "ipython",
    "version": 2
   },
   "file_extension": ".py",
   "mimetype": "text/x-python",
   "name": "python",
   "nbconvert_exporter": "python",
   "pygments_lexer": "ipython2",
   "version": "2.7.13"
  }
 },
 "nbformat": 4,
 "nbformat_minor": 2
}
