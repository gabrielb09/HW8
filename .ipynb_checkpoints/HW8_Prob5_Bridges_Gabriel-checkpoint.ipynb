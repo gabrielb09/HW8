{
 "cells": [
  {
   "cell_type": "code",
   "execution_count": 1,
   "metadata": {
    "collapsed": true
   },
   "outputs": [],
   "source": [
    "# Intro. Exp. Physics II HW8, Gabriel Bridges\n",
    "# Problem 6.5\n",
    "# GLB300@nyu.edu"
   ]
  },
  {
   "cell_type": "code",
   "execution_count": 1,
   "metadata": {
    "collapsed": false
   },
   "outputs": [],
   "source": [
    "months = {\"january\":1, \"february\":2,\"march\":3,\"april\":4,\"may\":5,\"june\":6,\"july\":7,\"august\":8,\"september\":9,\"october\":10,\"november\":11,\"december\":12}\n",
    "days = {1:\"monday\", 2:\"tuesday\", 3:\"wednesday\", 4:\"thursday\", 5:\"friday\", 6:\"saturday\", 7:\"sunday\"}\n",
    "daysInMonth = {1:31,2:28,3:31,4:30,5:31,6:30,7:31,8:31,9:30,10:31,11:30,12:31}\n"
   ]
  },
  {
   "cell_type": "code",
   "execution_count": 20,
   "metadata": {
    "collapsed": false
   },
   "outputs": [
    {
     "name": "stdout",
     "output_type": "stream",
     "text": [
      "What month would you like to analyze? August\n",
      "What day would you like to analyze? 28\n",
      "What year would you like to analyze? 2005\n"
     ]
    }
   ],
   "source": [
    "month = months[str(raw_input(\"What month would you like to analyze? \")).lower()]\n",
    "day = int(raw_input(\"What day would you like to analyze? \"))\n",
    "year = int(raw_input(\"What year would you like to analyze? \"))  "
   ]
  },
  {
   "cell_type": "code",
   "execution_count": 21,
   "metadata": {
    "collapsed": false
   },
   "outputs": [],
   "source": [
    "leapYears = 0\n",
    "for i in range (1900,year):\n",
    "    if(i%4 == 0 and (i%100 != 0 or i%400 == 0)):\n",
    "        leapYears += 1\n",
    "if(year%4 == 0 and (year%100 != 0 or year%400 == 0) and month >2):\n",
    "    leapYears += 1\n",
    "year = year-1900\n",
    "day = day\n",
    "month = month-1\n",
    "day += year*365\n",
    "day += leapYears\n",
    "for i in range (1,month+1):\n",
    "    day += daysInMonth[i]"
   ]
  },
  {
   "cell_type": "code",
   "execution_count": 22,
   "metadata": {
    "collapsed": false
   },
   "outputs": [
    {
     "name": "stdout",
     "output_type": "stream",
     "text": [
      "sunday\n"
     ]
    }
   ],
   "source": [
    "while day > 7:\n",
    "    day -= 7\n",
    "if day == 0:\n",
    "    day = 1\n",
    "print days[day]\n",
    "    "
   ]
  },
  {
   "cell_type": "code",
   "execution_count": null,
   "metadata": {
    "collapsed": true
   },
   "outputs": [],
   "source": []
  }
 ],
 "metadata": {
  "kernelspec": {
   "display_name": "Python 2",
   "language": "python",
   "name": "python2"
  },
  "language_info": {
   "codemirror_mode": {
    "name": "ipython",
    "version": 2
   },
   "file_extension": ".py",
   "mimetype": "text/x-python",
   "name": "python",
   "nbconvert_exporter": "python",
   "pygments_lexer": "ipython2",
   "version": "2.7.13"
  }
 },
 "nbformat": 4,
 "nbformat_minor": 2
}
