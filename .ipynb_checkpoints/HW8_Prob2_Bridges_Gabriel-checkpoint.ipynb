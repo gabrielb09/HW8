{
 "cells": [
  {
   "cell_type": "code",
   "execution_count": 1,
   "metadata": {
    "collapsed": true
   },
   "outputs": [],
   "source": [
    "# Intro. Exp. Physics II HW8, Gabriel Bridges\n",
    "# Problem 6.2\n",
    "# GLB300@nyu.edu"
   ]
  },
  {
   "cell_type": "code",
   "execution_count": 10,
   "metadata": {
    "collapsed": false
   },
   "outputs": [
    {
     "name": "stdout",
     "output_type": "stream",
     "text": [
      "Input an integer > 1: 10\n"
     ]
    }
   ],
   "source": [
    "n = int(raw_input(\"Input an integer > 1: \"))\n",
    "i = 2"
   ]
  },
  {
   "cell_type": "code",
   "execution_count": 11,
   "metadata": {
    "collapsed": false
   },
   "outputs": [],
   "source": [
    "while (n % i) != 0:\n",
    "    i += 1"
   ]
  },
  {
   "cell_type": "code",
   "execution_count": 14,
   "metadata": {
    "collapsed": false
   },
   "outputs": [
    {
     "name": "stdout",
     "output_type": "stream",
     "text": [
      "('The smallest factor of n is:', 2)\n"
     ]
    }
   ],
   "source": [
    "print(\"The smallest factor of n is:\", i )"
   ]
  },
  {
   "cell_type": "code",
   "execution_count": 15,
   "metadata": {
    "collapsed": true
   },
   "outputs": [],
   "source": [
    "# This works as advertised\n",
    "# Increases \"i\" with every loop and wait until the remainder of n/i is 0 \n",
    "# Once this remainder is 0 those numbers are evenly divisable and the smallest factor has been found\n",
    "# Since i starts at 2 it will find the first non-trivial factor"
   ]
  },
  {
   "cell_type": "code",
   "execution_count": 29,
   "metadata": {
    "collapsed": false
   },
   "outputs": [
    {
     "name": "stdout",
     "output_type": "stream",
     "text": [
      "Input an integer > 1: 947431\n"
     ]
    }
   ],
   "source": [
    "n = int(raw_input(\"Input an integer > 1: \"))\n",
    "i = 2"
   ]
  },
  {
   "cell_type": "code",
   "execution_count": 30,
   "metadata": {
    "collapsed": false
   },
   "outputs": [
    {
     "name": "stdout",
     "output_type": "stream",
     "text": [
      "(947431, ' is prime')\n"
     ]
    }
   ],
   "source": [
    "while (n % i) != 0:\n",
    "    i += 1\n",
    "if (i == n):\n",
    "    print(n,\" is prime\")\n",
    "else:\n",
    "    print(i, \" is the smallest prime factor\")"
   ]
  },
  {
   "cell_type": "code",
   "execution_count": null,
   "metadata": {
    "collapsed": true
   },
   "outputs": [],
   "source": []
  }
 ],
 "metadata": {
  "kernelspec": {
   "display_name": "Python 2",
   "language": "python",
   "name": "python2"
  },
  "language_info": {
   "codemirror_mode": {
    "name": "ipython",
    "version": 2
   },
   "file_extension": ".py",
   "mimetype": "text/x-python",
   "name": "python",
   "nbconvert_exporter": "python",
   "pygments_lexer": "ipython2",
   "version": "2.7.13"
  }
 },
 "nbformat": 4,
 "nbformat_minor": 2
}
